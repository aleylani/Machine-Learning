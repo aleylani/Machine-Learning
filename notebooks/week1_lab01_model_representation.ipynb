{
 "cells": [
  {
   "cell_type": "markdown",
   "id": "3fb8f1d5",
   "metadata": {},
   "source": [
    "## Environment setup"
   ]
  },
  {
   "cell_type": "markdown",
   "id": "0c083327",
   "metadata": {},
   "source": [
    "Create a new anaconda environment and call it 'machinelearning'\n",
    "\n",
    "- conda create --name machinelearning python=3.11\n",
    "\n",
    "Install the following packages after activating the environment\n",
    "\n",
    "- conda install ipykernel numpy pandas\n",
    "- conda install anaconda::matplotlib\n",
    "- conda install anaconda::seaborn\n",
    "- conda install anaconda::scikit-learn"
   ]
  },
  {
   "cell_type": "markdown",
   "metadata": {
    "pycharm": {
     "name": "#%% md\n"
    }
   },
   "source": [
    "## Goals\n",
    "In this lab you will:\n",
    "- Learn to implement the a linear model $f_{w,b}(x)$ to be used for linear regression with one variable\n",
    "\n"
   ]
  },
  {
   "cell_type": "markdown",
   "id": "12f5c447",
   "metadata": {},
   "source": [
    "## Notation\n",
    "\n",
    "With $f_{w,b}(x)$ as a linear model of one variable, we exlicitly imply that \n",
    "\n",
    "$$f_{w,b}(x) = w \\cdot x^{(i)}+b$$\n",
    "\n",
    "The goal is to find values for $w$ and $b$ so that the model $f_{w,b}(x)$ best fits the data we train it on.\n",
    "\n",
    "The feature and target of the $i$:th training sample will be denoted $x^{(i)}$ and $y^{(i)}$, respectively. "
   ]
  },
  {
   "cell_type": "code",
   "execution_count": 1,
   "metadata": {
    "pycharm": {
     "name": "#%%\n"
    }
   },
   "outputs": [],
   "source": [
    "import numpy as np\n",
    "import matplotlib.pyplot as plt"
   ]
  },
  {
   "cell_type": "code",
   "execution_count": 2,
   "id": "4ab4b485",
   "metadata": {},
   "outputs": [],
   "source": [
    "#create data\n",
    "x = np.array([1, 1.2, 2, 3, 4.5, 4, 5, 6, 7, 7.5, 8, 9])\n",
    "y = np.array([13, 14, 17, 12, 23, 24, 25, 25, 24, 28, 32, 33])"
   ]
  },
  {
   "cell_type": "markdown",
   "id": "17566b3b",
   "metadata": {},
   "source": [
    "Our data now looks like this\n",
    "\n",
    "| x (number of rooms)  | y (price in thousands of $) |\n",
    "| -------------------  | ------------------------ |\n",
    "| 1                  | 13                      |\n",
    "| 1                  | 14                      |\n",
    "| 2                  | 17                      |\n",
    "| 3                  | 12                      |\n",
    "| ...                | ...                     |\n",
    "| 9                  | 33                      |\n",
    "\n",
    "The x's are our features, and the y's our targets\n",
    "\n",
    "Our task is now to fit a linear model $f_{w,b}(x) = w \\cdot x^{i}+b$ to this data, and use it to predict prices for other houses."
   ]
  },
  {
   "cell_type": "markdown",
   "metadata": {
    "pycharm": {
     "name": "#%% md\n"
    }
   },
   "source": [
    "It is very common to call the data you train on `x_train` and `y_train`, so let's create those variables here. We'll also store the data in one-dimensional NumPy arrays, since calculations with those are faster and more convenient than with Python lists."
   ]
  },
  {
   "cell_type": "code",
   "execution_count": 3,
   "metadata": {
    "pycharm": {
     "name": "#%%\n"
    }
   },
   "outputs": [
    {
     "name": "stdout",
     "output_type": "stream",
     "text": [
      "x_train = [1.  1.2 2.  3.  4.5 4.  5.  6.  7.  7.5 8.  9. ]\n",
      "y_train = [13 14 17 12 23 24 25 25 24 28 32 33]\n"
     ]
    }
   ],
   "source": [
    "x_train = np.array(x)\n",
    "y_train = np.array(y)\n",
    "print(f\"x_train = {x_train}\")\n",
    "print(f\"y_train = {y_train}\")"
   ]
  },
  {
   "cell_type": "markdown",
   "metadata": {
    "pycharm": {
     "name": "#%% md\n"
    }
   },
   "source": [
    "### Number of training examples `m`\n",
    "We will use `m` to denote the number of training examples. "
   ]
  },
  {
   "cell_type": "code",
   "execution_count": 4,
   "metadata": {
    "pycharm": {
     "name": "#%%\n"
    }
   },
   "outputs": [
    {
     "name": "stdout",
     "output_type": "stream",
     "text": [
      "Number of training examples is: 12\n"
     ]
    }
   ],
   "source": [
    "# m is the number of training examples\n",
    "m = len(x_train)\n",
    "print(f\"Number of training examples is: {m}\")"
   ]
  },
  {
   "cell_type": "markdown",
   "metadata": {
    "pycharm": {
     "name": "#%% md\n"
    }
   },
   "source": [
    "### Training example `x_i, y_i`\n",
    "\n",
    "You will use $x^{(i)}$ and $y^{(i)}$ to denote the $i^{th}$ training example.\n",
    "\n",
    "To access any particular training sample, we can simply index our training data.\n",
    "\n",
    "Execude the next code block below to get the $i^{th}$ training example."
   ]
  },
  {
   "cell_type": "code",
   "execution_count": 12,
   "metadata": {
    "pycharm": {
     "name": "#%%\n"
    }
   },
   "outputs": [
    {
     "name": "stdout",
     "output_type": "stream",
     "text": [
      "(x^(1), y^(1)) = (1.0, 13)\n"
     ]
    }
   ],
   "source": [
    "i = 0 # Change this to the desired number i-1 to see (x^i, y^i)\n",
    "\n",
    "x_i = x_train[i]\n",
    "y_i = y_train[i]\n",
    "print(f\"(x^({i+1}), y^({i+1})) = ({x_i}, {y_i})\")"
   ]
  },
  {
   "cell_type": "markdown",
   "metadata": {
    "pycharm": {
     "name": "#%% md\n"
    }
   },
   "source": [
    "### Plotting the data"
   ]
  },
  {
   "cell_type": "markdown",
   "metadata": {
    "pycharm": {
     "name": "#%% md\n"
    }
   },
   "source": [
    "Let's plot our training data to get some intuition and better understanding of it. We can use a simply `scatter()`-plot here.\n"
   ]
  },
  {
   "cell_type": "code",
   "execution_count": 6,
   "metadata": {
    "pycharm": {
     "name": "#%%\n"
    }
   },
   "outputs": [
    {
     "data": {
      "image/png": "[encoded data removed]",
      "text/plain": [
       "<Figure size 640x480 with 1 Axes>"
      ]
     },
     "metadata": {},
     "output_type": "display_data"
    }
   ],
   "source": [
    "# Plot the data points\n",
    "plt.scatter(x_train, y_train, marker='o', c='purple')\n",
    "# Set the title\n",
    "plt.title(\"Housing Prices\")\n",
    "# Set the y-axis label\n",
    "plt.ylabel('Price (in 1000s of dollars)')\n",
    "# Set the x-axis label\n",
    "plt.xlabel('Number of rooms')\n",
    "plt.show()"
   ]
  },
  {
   "cell_type": "markdown",
   "metadata": {
    "pycharm": {
     "name": "#%% md\n"
    }
   },
   "source": [
    "## Model function\n",
    "\n",
    "As described in the lecture, the model function for linear regression (which is a function that maps from `x` to `y`) is represented as \n",
    "\n",
    "$$ f_{w,b}(x) = w \\cdot x + b$$\n",
    "\n",
    "The formula above is how you can represent straight lines - different values of $w$ and $b$ give you different straight lines on the plot."
   ]
  },
  {
   "cell_type": "markdown",
   "id": "48767a13",
   "metadata": {},
   "source": [
    "**Now:** Let's first create a function that, given any value of x, w and b, returns the corresponding function value y"
   ]
  },
  {
   "cell_type": "code",
   "execution_count": 1,
   "id": "2fb6efa0",
   "metadata": {},
   "outputs": [],
   "source": [
    "# we'll create a general function that can take any values of w and b, so that it can be reused later\n",
    "\n",
    "def linear_model(x, w, b):\n",
    "\n",
    "    predicted_y = w*x + b\n",
    "    \n",
    "    return predicted_y"
   ]
  },
  {
   "cell_type": "markdown",
   "id": "65812c67",
   "metadata": {},
   "source": [
    "## Testing different values of w and b"
   ]
  },
  {
   "cell_type": "markdown",
   "id": "b67bfe6c",
   "metadata": {},
   "source": [
    "\n",
    "Let's try to get a better intuition for linear modelling by testing out different values of $w$ and $b$, to see which one fits the data best \n",
    "\n",
    "Let's begin by testing $w = 1$ and $b = 10$.\n",
    "\n",
    "In other words, our hypothesis model using these values is\n",
    "\n",
    "$$ f_{1,10}(x^{(i)}) = 1 \\cdot x^{(i)} + 10$$\n",
    "\n",
    "**Note: You can come back to this cell to adjust the model's w and b parameters**"
   ]
  },
  {
   "cell_type": "code",
   "execution_count": 8,
   "metadata": {
    "pycharm": {
     "name": "#%%\n"
    }
   },
   "outputs": [
    {
     "name": "stdout",
     "output_type": "stream",
     "text": [
      "w: 1\n",
      "b: 10\n"
     ]
    }
   ],
   "source": [
    "w = 1\n",
    "b = 10\n",
    "print(f\"w: {w}\")\n",
    "print(f\"b: {b}\")"
   ]
  },
  {
   "cell_type": "markdown",
   "id": "fce812fc",
   "metadata": {},
   "source": [
    "Now, let's assume that we have no idea what the real y-values (house prices) in our training data, and let's just use the features in our training data to predict housing prices instead. "
   ]
  },
  {
   "cell_type": "code",
   "execution_count": 9,
   "id": "a51324d2",
   "metadata": {},
   "outputs": [],
   "source": [
    "y_predictions = [linear_model(x,w,b) for x in x_train]"
   ]
  },
  {
   "cell_type": "markdown",
   "metadata": {
    "pycharm": {
     "name": "#%% md\n"
    }
   },
   "source": [
    "What we have done is to calculate $\\hat{y}^{i} = f_{1,10}(x^{(i)})$ for all of feature values $x^{(i)}$ in the training data. \n",
    "\n",
    "Our hope is that each $\\hat{y}^i$ is close to the true $y^{i}$."
   ]
  },
  {
   "cell_type": "markdown",
   "id": "cf8c4382",
   "metadata": {},
   "source": [
    "## Plotting the results"
   ]
  },
  {
   "cell_type": "markdown",
   "metadata": {
    "pycharm": {
     "name": "#%% md\n"
    }
   },
   "source": [
    "Let's plot these predicted results, together with the original data, to see what we've actually done"
   ]
  },
  {
   "cell_type": "code",
   "execution_count": 10,
   "metadata": {
    "pycharm": {
     "name": "#%%\n"
    }
   },
   "outputs": [
    {
     "data": {
      "image/png": "[encoded data removed]",
      "text/plain": [
       "<Figure size 640x480 with 1 Axes>"
      ]
     },
     "metadata": {},
     "output_type": "display_data"
    }
   ],
   "source": [
    "# Plot our model prediction\n",
    "plt.plot(x_train, y_predictions, marker='x', c='b',label=f'y = {w}x+{b} ')\n",
    "\n",
    "# Plot the data points\n",
    "plt.scatter(x_train, y_train, marker='o', c='purple',label='Actual Values')\n",
    "\n",
    "# Set the title\n",
    "plt.title(\"Housing Prices\")\n",
    "# Set the y-axis label\n",
    "plt.ylabel('Price (in 1000s of dollars)')\n",
    "# Set the x-axis label\n",
    "plt.xlabel('Number of rooms')\n",
    "plt.legend()\n",
    "plt.show()"
   ]
  },
  {
   "cell_type": "markdown",
   "id": "620df8d5",
   "metadata": {},
   "source": [
    "As you can see, setting $w = 1$ and $b = 10$ does *not* result in a linear model that fits our data particularly well. "
   ]
  },
  {
   "cell_type": "markdown",
   "id": "b95cd68a",
   "metadata": {},
   "source": [
    "## Challenges "
   ]
  },
  {
   "cell_type": "markdown",
   "metadata": {
    "pycharm": {
     "name": "#%% md\n"
    }
   },
   "source": [
    "**Task 1**\n",
    "\n",
    "Try experimenting with different values of $w$ and $b$. What should the values be for a line that fits our data?"
   ]
  },
  {
   "cell_type": "markdown",
   "id": "aaaddde5",
   "metadata": {},
   "source": [
    "**Task 2**\n",
    "\n",
    "Prediction\n",
    "\n",
    "Now that we have a good model, we can use it to make an original prediction. Predict the price of a house with: \n",
    "- 7.5 bedrooms\n",
    "- 10 bedrooms\n",
    "\n",
    "Are you interpolating, or extrapolating, in each of those cases?"
   ]
  },
  {
   "cell_type": "markdown",
   "id": "bbaa4263",
   "metadata": {},
   "source": [
    "**Task 3**\n",
    "\n",
    "Create your own data, and try to fit a linear model (find values of w and b) on that data"
   ]
  },
  {
   "cell_type": "markdown",
   "metadata": {
    "pycharm": {
     "name": "#%% md\n"
    }
   },
   "source": [
    "# Congratulations!\n",
    "In this lab you have learned:\n",
    " - Linear regression builds a model which establishes a relationship between features and targets\n",
    "     - In the example above, the feature was number of houses and the target was house price\n",
    "     - for simple linear regression, the model has two parameters $w$ and $b$ whose values are 'fit' using *training data*.\n",
    "     - once a model's parameters have been determined, the model can be used to make predictions on novel data."
   ]
  }
 ],
 "metadata": {
  "kernelspec": {
   "display_name": "Python 3",
   "language": "python",
   "name": "python3"
  },
  "language_info": {
   "codemirror_mode": {
    "name": "ipython",
    "version": 3
   },
   "file_extension": ".py",
   "mimetype": "text/x-python",
   "name": "python",
   "nbconvert_exporter": "python",
   "pygments_lexer": "ipython3",
   "version": "3.11.7"
  },
  "toc-autonumbering": false
 },
 "nbformat": 4,
 "nbformat_minor": 5
}
