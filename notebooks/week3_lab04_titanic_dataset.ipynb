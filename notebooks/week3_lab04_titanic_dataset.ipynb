{
 "cells": [
  {
   "cell_type": "code",
   "execution_count": null,
   "id": "fc1fc1f6",
   "metadata": {},
   "outputs": [],
   "source": [
    "import numpy as np\n",
    "import pandas as pd\n",
    "\n",
    "import seaborn as sns\n",
    "from matplotlib import pyplot as plt"
   ]
  },
  {
   "cell_type": "markdown",
   "id": "be93d091",
   "metadata": {},
   "source": [
    "We are now going to take on the Titanic dataset, and predict wheter a given passanger will survive or not - given a few features."
   ]
  },
  {
   "cell_type": "markdown",
   "id": "3fd1d7d4",
   "metadata": {},
   "source": [
    "Make sure to read about the dataset [here.](https://www.kaggle.com/c/titanic/data)"
   ]
  },
  {
   "cell_type": "code",
   "execution_count": null,
   "id": "ea3a7ac6",
   "metadata": {},
   "outputs": [],
   "source": [
    "# load the titanic dataset\n",
    "\n",
    "titanic_df = pd.read_csv('../data/titanic.csv')\n",
    "\n",
    "titanic_df"
   ]
  },
  {
   "cell_type": "code",
   "execution_count": null,
   "id": "ac9e8fd6",
   "metadata": {},
   "outputs": [],
   "source": [
    "import seaborn as sns"
   ]
  },
  {
   "cell_type": "code",
   "execution_count": null,
   "id": "83bb7d74",
   "metadata": {},
   "outputs": [],
   "source": [
    "titanic_df.Sex.value_counts()"
   ]
  },
  {
   "cell_type": "code",
   "execution_count": null,
   "id": "bebac6b1",
   "metadata": {},
   "outputs": [],
   "source": [
    "titanic_df[titanic_df.Sex == 'male']['Survived'].value_counts()"
   ]
  },
  {
   "cell_type": "code",
   "execution_count": null,
   "id": "dd99a41f",
   "metadata": {},
   "outputs": [],
   "source": [
    "titanic_df[titanic_df.Sex == 'female']['Survived'].value_counts()"
   ]
  },
  {
   "cell_type": "code",
   "execution_count": null,
   "id": "b5f6702b",
   "metadata": {},
   "outputs": [],
   "source": [
    "titanic_df.Sex.isnull().sum()"
   ]
  },
  {
   "cell_type": "markdown",
   "id": "d3b0d7ed",
   "metadata": {},
   "source": [
    "---\n",
    "\n",
    "## Challenges"
   ]
  },
  {
   "cell_type": "markdown",
   "id": "2f852ee5",
   "metadata": {},
   "source": [
    "**Task 1**\n",
    "\n",
    "Read the documentation of the dataset, and think carefully about the features available. Which ones do you think are relevant to predict wether someone survives or not?\n",
    "\n",
    "Now drop the columns you think are redundant."
   ]
  },
  {
   "cell_type": "code",
   "execution_count": null,
   "id": "9585a71c",
   "metadata": {},
   "outputs": [],
   "source": [
    "titanic_df = titanic_df.drop(columns=['PassengerId', 'Ticket', 'Cabin', 'Name'])"
   ]
  },
  {
   "cell_type": "code",
   "execution_count": null,
   "id": "991b726d",
   "metadata": {},
   "outputs": [],
   "source": [
    "titanic_df"
   ]
  },
  {
   "cell_type": "code",
   "execution_count": null,
   "metadata": {},
   "outputs": [],
   "source": [
    "titanic_df.info()"
   ]
  },
  {
   "cell_type": "markdown",
   "id": "597ccead",
   "metadata": {},
   "source": [
    "**Task 2**\n",
    "\n",
    "Do some preliminary EDA, and clean columns in a suitable way if warranted. Remember to also conduct (if needed) feature engineering, one-hot-encoding (categorical columns) etc.\n",
    "\n",
    "In general, prepare your data for training.\n",
    "\n",
    "*Note*: You do NOT need to do any feature scaling for logistic regression."
   ]
  },
  {
   "cell_type": "code",
   "execution_count": null,
   "id": "efa5e7b4",
   "metadata": {},
   "outputs": [],
   "source": [
    "titanic_df = pd.get_dummies(titanic_df, columns=['Embarked'], dtype=int) \n",
    "\n",
    "titanic_df['Sex'] = [1 if sex == 'male' else 0 for sex in titanic_df['Sex']]"
   ]
  },
  {
   "cell_type": "code",
   "execution_count": null,
   "id": "4871bf22",
   "metadata": {},
   "outputs": [],
   "source": [
    "titanic_df"
   ]
  },
  {
   "cell_type": "markdown",
   "id": "8a4e757a",
   "metadata": {},
   "source": [
    "Alis exempel ovan. Obs, man kan jobba MYCKet mer på detta men nu är åtminstone alla features numeriska\n",
    "\n",
    "Obs, age har None's i sig! Det måste ni lösa"
   ]
  },
  {
   "cell_type": "code",
   "execution_count": null,
   "id": "a36c8f1f",
   "metadata": {},
   "outputs": [],
   "source": [
    "# vi fyller alla våra NaNs i age med medelvärdet av övriga värden. Obs, detta är INTE bästa sättet att fylla i på\n",
    "\n",
    "mean_age = titanic_df['Age'].mean()\n",
    "\n",
    "print('mean age:', mean_age)\n",
    "\n",
    "titanic_df['Age'].fillna(mean_age, inplace=True)    # inplace = True gör att vi ändrar på titanic_df, utan att behöva re-assigna"
   ]
  },
  {
   "cell_type": "markdown",
   "id": "6227d923",
   "metadata": {},
   "source": [
    "Vi skalar också våra vår Age och Fare"
   ]
  },
  {
   "cell_type": "markdown",
   "id": "2dbf2c91",
   "metadata": {},
   "source": [
    "titanic_df['Age'] = titanic_df['Age'] / max(titanic_df['Age'])\n",
    "\n",
    "titanic_df['Fare'] = titanic_df['Fare'] / max(titanic_df['Fare'])"
   ]
  },
  {
   "cell_type": "markdown",
   "id": "b50d158b",
   "metadata": {},
   "source": [
    "**Task 3**\n",
    "\n",
    "Train a logistic regression model to predict wether someone survives, or not. \n",
    "\n",
    "Use 5-fold cross-validation to assess performance.\n",
    "\n",
    "Use accuracy, precision and recall score."
   ]
  },
  {
   "cell_type": "code",
   "execution_count": null,
   "id": "a15a6f48",
   "metadata": {},
   "outputs": [],
   "source": [
    "X, y = titanic_df.drop(columns=['Survived']), titanic_df['Survived']"
   ]
  },
  {
   "cell_type": "markdown",
   "id": "db20acab",
   "metadata": {},
   "source": [
    "titanic_df = titanic_df.drop(columns=['Age'])"
   ]
  },
  {
   "cell_type": "markdown",
   "id": "9e14b3ea",
   "metadata": {},
   "source": [
    "X = X.drop(columns=['Age'])"
   ]
  },
  {
   "cell_type": "code",
   "execution_count": null,
   "id": "6d54f9c3",
   "metadata": {},
   "outputs": [],
   "source": [
    "X"
   ]
  },
  {
   "cell_type": "code",
   "execution_count": null,
   "id": "bee90519",
   "metadata": {},
   "outputs": [],
   "source": [
    "from sklearn.linear_model import LogisticRegression\n",
    "from sklearn.model_selection import cross_validate\n",
    "from sklearn.metrics import make_scorer, accuracy_score, precision_score, recall_score\n",
    "\n",
    "# Initialize linear regression model\n",
    "model = LogisticRegression()\n",
    "\n",
    "# Define the scoring function\n",
    "scoring = {'accuracy': make_scorer(accuracy_score), \n",
    "           'precision': make_scorer(precision_score), \n",
    "           'recall': make_scorer(recall_score)}\n",
    "\n",
    "# Perform 5-fold cross-validation\n",
    "num_folds = 5\n",
    "\n",
    "cv_results = cross_validate(model, X, y, cv=num_folds, scoring=scoring, return_train_score=True)"
   ]
  },
  {
   "cell_type": "code",
   "execution_count": null,
   "id": "9659d0fb",
   "metadata": {},
   "outputs": [],
   "source": [
    "cv_results"
   ]
  },
  {
   "cell_type": "code",
   "execution_count": null,
   "id": "631cb2d2",
   "metadata": {},
   "outputs": [],
   "source": [
    "np.mean(cv_results['test_accuracy'])"
   ]
  },
  {
   "cell_type": "code",
   "execution_count": null,
   "id": "2c79ee92",
   "metadata": {},
   "outputs": [],
   "source": [
    "np.mean(cv_results['test_precision'])"
   ]
  },
  {
   "cell_type": "code",
   "execution_count": null,
   "id": "f4f137e1",
   "metadata": {},
   "outputs": [],
   "source": [
    "np.mean(cv_results['test_recall'])"
   ]
  },
  {
   "cell_type": "markdown",
   "id": "af09d081",
   "metadata": {},
   "source": [
    "**Task 4**\n",
    "\n",
    "Now do a normal train/test split and train a logistic model on this.\n",
    "\n",
    "Plot a confusion matrix on the predictions of your test set. Is your model performing okay-ish?"
   ]
  },
  {
   "cell_type": "code",
   "execution_count": null,
   "id": "5655b580",
   "metadata": {},
   "outputs": [],
   "source": [
    "from sklearn.model_selection import train_test_split\n",
    "\n",
    "test_size = 0.2\n",
    "\n",
    "X_train, X_test, y_train, y_test = train_test_split(X.values,\n",
    "                                                    y.values,\n",
    "                                                    test_size=test_size, \n",
    "                                                    random_state=42)\n",
    "\n",
    "print(X_train.shape)\n",
    "print(y_train.shape)\n",
    "\n",
    "print(X_test.shape)\n",
    "print(y_test.shape)"
   ]
  },
  {
   "cell_type": "code",
   "execution_count": null,
   "id": "bce9b82f",
   "metadata": {},
   "outputs": [],
   "source": [
    "y_train = y_train.reshape(-1,1)\n",
    "y_test = y_test.reshape(-1,1)\n",
    "\n",
    "print(y_train.shape)\n",
    "print(y_test.shape)"
   ]
  },
  {
   "cell_type": "code",
   "execution_count": null,
   "id": "c74f772b",
   "metadata": {},
   "outputs": [],
   "source": [
    "from sklearn.linear_model import LogisticRegression\n",
    "\n",
    "logistic_model = LogisticRegression()\n",
    "\n",
    "#train the model\n",
    "logistic_model.fit(X_train, y_train)"
   ]
  },
  {
   "cell_type": "code",
   "execution_count": null,
   "id": "dedff964",
   "metadata": {},
   "outputs": [],
   "source": [
    "# vi kan använda predict för att direkt få ut den mest sannolika klassen\n",
    "\n",
    "y_train_hats = logistic_model.predict(X_train)\n",
    "y_test_hats = logistic_model.predict(X_test)"
   ]
  },
  {
   "cell_type": "code",
   "execution_count": null,
   "id": "47126740",
   "metadata": {},
   "outputs": [],
   "source": [
    "from sklearn.metrics import confusion_matrix\n",
    "from sklearn.metrics import ConfusionMatrixDisplay\n",
    "\n",
    "cm = confusion_matrix(y_true=y_test, y_pred=y_test_hats)\n",
    "\n",
    "cm_display = ConfusionMatrixDisplay(confusion_matrix = cm, display_labels = [0, 1])\n",
    "\n",
    "cm_display.plot()\n",
    "plt.show() "
   ]
  },
  {
   "cell_type": "code",
   "execution_count": null,
   "id": "149b2adb",
   "metadata": {},
   "outputs": [],
   "source": []
  }
 ],
 "metadata": {
  "kernelspec": {
   "display_name": "deeplearning",
   "language": "python",
   "name": "python3"
  },
  "language_info": {
   "codemirror_mode": {
    "name": "ipython",
    "version": 3
   },
   "file_extension": ".py",
   "mimetype": "text/x-python",
   "name": "python",
   "nbconvert_exporter": "python",
   "pygments_lexer": "ipython3",
   "version": "3.11.7"
  }
 },
 "nbformat": 4,
 "nbformat_minor": 5
}
